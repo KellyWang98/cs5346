{
 "cells": [
  {
   "cell_type": "code",
   "execution_count": 1,
   "metadata": {},
   "outputs": [],
   "source": [
    "import numpy as np\n",
    "import pandas as pd\n",
    "import seaborn as sns\n",
    "import matplotlib.pyplot as plt"
   ]
  },
  {
   "cell_type": "code",
   "execution_count": 2,
   "metadata": {},
   "outputs": [],
   "source": [
    "df = pd.read_csv('diamonds.csv')"
   ]
  },
  {
   "cell_type": "code",
   "execution_count": 3,
   "metadata": {},
   "outputs": [
    {
     "data": {
      "text/html": [
       "<div>\n",
       "<style scoped>\n",
       "    .dataframe tbody tr th:only-of-type {\n",
       "        vertical-align: middle;\n",
       "    }\n",
       "\n",
       "    .dataframe tbody tr th {\n",
       "        vertical-align: top;\n",
       "    }\n",
       "\n",
       "    .dataframe thead th {\n",
       "        text-align: right;\n",
       "    }\n",
       "</style>\n",
       "<table border=\"1\" class=\"dataframe\">\n",
       "  <thead>\n",
       "    <tr style=\"text-align: right;\">\n",
       "      <th></th>\n",
       "      <th>carat</th>\n",
       "      <th>cut</th>\n",
       "      <th>color</th>\n",
       "      <th>clarity</th>\n",
       "      <th>price</th>\n",
       "      <th>x</th>\n",
       "      <th>y</th>\n",
       "      <th>z</th>\n",
       "    </tr>\n",
       "  </thead>\n",
       "  <tbody>\n",
       "    <tr>\n",
       "      <th>0</th>\n",
       "      <td>0.23</td>\n",
       "      <td>2</td>\n",
       "      <td>1</td>\n",
       "      <td>3</td>\n",
       "      <td>326</td>\n",
       "      <td>3.95</td>\n",
       "      <td>3.98</td>\n",
       "      <td>2.43</td>\n",
       "    </tr>\n",
       "    <tr>\n",
       "      <th>1</th>\n",
       "      <td>0.21</td>\n",
       "      <td>3</td>\n",
       "      <td>1</td>\n",
       "      <td>2</td>\n",
       "      <td>326</td>\n",
       "      <td>3.89</td>\n",
       "      <td>3.84</td>\n",
       "      <td>2.31</td>\n",
       "    </tr>\n",
       "    <tr>\n",
       "      <th>2</th>\n",
       "      <td>0.23</td>\n",
       "      <td>1</td>\n",
       "      <td>1</td>\n",
       "      <td>4</td>\n",
       "      <td>327</td>\n",
       "      <td>4.05</td>\n",
       "      <td>4.07</td>\n",
       "      <td>2.31</td>\n",
       "    </tr>\n",
       "    <tr>\n",
       "      <th>3</th>\n",
       "      <td>0.29</td>\n",
       "      <td>3</td>\n",
       "      <td>5</td>\n",
       "      <td>5</td>\n",
       "      <td>334</td>\n",
       "      <td>4.20</td>\n",
       "      <td>4.23</td>\n",
       "      <td>2.63</td>\n",
       "    </tr>\n",
       "    <tr>\n",
       "      <th>4</th>\n",
       "      <td>0.31</td>\n",
       "      <td>1</td>\n",
       "      <td>6</td>\n",
       "      <td>3</td>\n",
       "      <td>335</td>\n",
       "      <td>4.34</td>\n",
       "      <td>4.35</td>\n",
       "      <td>2.75</td>\n",
       "    </tr>\n",
       "  </tbody>\n",
       "</table>\n",
       "</div>"
      ],
      "text/plain": [
       "   carat  cut  color  clarity  price     x     y     z\n",
       "0   0.23    2      1        3    326  3.95  3.98  2.43\n",
       "1   0.21    3      1        2    326  3.89  3.84  2.31\n",
       "2   0.23    1      1        4    327  4.05  4.07  2.31\n",
       "3   0.29    3      5        5    334  4.20  4.23  2.63\n",
       "4   0.31    1      6        3    335  4.34  4.35  2.75"
      ]
     },
     "execution_count": 3,
     "metadata": {},
     "output_type": "execute_result"
    }
   ],
   "source": [
    "df[\"cut\"] = df[\"cut\"].astype('category')\n",
    "df[\"ccut\"] = df[\"cut\"].cat.codes\n",
    "\n",
    "df[\"color\"] = df[\"color\"].astype('category')\n",
    "df[\"ccolor\"] = df[\"color\"].cat.codes\n",
    "\n",
    "df[\"clarity\"] = df[\"clarity\"].astype('category')\n",
    "df[\"cclarity\"] = df[\"clarity\"].cat.codes\n",
    "\n",
    "df.drop(\"Unnamed: 0\", axis=1, inplace=True)\n",
    "df.drop(\"depth\", axis=1, inplace=True)\n",
    "df.drop(\"table\", axis=1, inplace=True)\n",
    "df.drop(\"cut\", axis=1, inplace=True)\n",
    "df.drop(\"color\", axis=1, inplace=True)\n",
    "df.drop(\"clarity\", axis=1, inplace=True)\n",
    "\n",
    "df.rename(columns = {\"ccut\": \"cut\", \"ccolor\": \"color\", \"cclarity\": \"clarity\"}, inplace = True)\n",
    "\n",
    "col_cut = df.pop(\"cut\")\n",
    "df.insert(1, col_cut.name, col_cut)\n",
    "\n",
    "col_color = df.pop(\"color\")\n",
    "df.insert(2, col_color.name, col_color)\n",
    "\n",
    "col_clarity = df.pop(\"clarity\")\n",
    "df.insert(3, col_clarity.name, col_clarity)\n",
    "df.head()"
   ]
  },
  {
   "cell_type": "code",
   "execution_count": 4,
   "metadata": {},
   "outputs": [
    {
     "name": "stdout",
     "output_type": "stream",
     "text": [
      "<class 'pandas.core.frame.DataFrame'>             carat       cut     color   clarity     price         x         y  \\\n",
      "carat    1.000000  0.017124  0.291437 -0.214290  0.921591  0.975094  0.951722   \n",
      "cut      0.017124  1.000000  0.000304  0.028235  0.039860  0.022342  0.027572   \n",
      "color    0.291437  0.000304  1.000000 -0.027795  0.172511  0.270287  0.263584   \n",
      "clarity -0.214290  0.028235 -0.027795  1.000000 -0.071535 -0.225721 -0.217616   \n",
      "price    0.921591  0.039860  0.172511 -0.071535  1.000000  0.884435  0.865421   \n",
      "x        0.975094  0.022342  0.270287 -0.225721  0.884435  1.000000  0.974701   \n",
      "y        0.951722  0.027572  0.263584 -0.217616  0.865421  0.974701  1.000000   \n",
      "z        0.953387  0.002037  0.268227 -0.224263  0.861249  0.970772  0.952006   \n",
      "\n",
      "                z  \n",
      "carat    0.953387  \n",
      "cut      0.002037  \n",
      "color    0.268227  \n",
      "clarity -0.224263  \n",
      "price    0.861249  \n",
      "x        0.970772  \n",
      "y        0.952006  \n",
      "z        1.000000  \n"
     ]
    },
    {
     "data": {
      "text/plain": [
       "<Figure size 1440x720 with 0 Axes>"
      ]
     },
     "metadata": {},
     "output_type": "display_data"
    }
   ],
   "source": [
    "plt.figure(figsize=(20,10))\n",
    "c= df.corr()\n",
    "print(type(c), c)\n",
    "c.to_csv('correlation.csv')"
   ]
  },
  {
   "cell_type": "code",
   "execution_count": null,
   "metadata": {},
   "outputs": [],
   "source": []
  }
 ],
 "metadata": {
  "kernelspec": {
   "display_name": "Python 3",
   "language": "python",
   "name": "python3"
  },
  "language_info": {
   "codemirror_mode": {
    "name": "ipython",
    "version": 3
   },
   "file_extension": ".py",
   "mimetype": "text/x-python",
   "name": "python",
   "nbconvert_exporter": "python",
   "pygments_lexer": "ipython3",
   "version": "3.7.7"
  }
 },
 "nbformat": 4,
 "nbformat_minor": 4
}
