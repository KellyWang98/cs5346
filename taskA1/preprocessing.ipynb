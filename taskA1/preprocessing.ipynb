{
 "cells": [
  {
   "cell_type": "code",
   "execution_count": 30,
   "metadata": {},
   "outputs": [],
   "source": [
    "import numpy as np\n",
    "import pandas as pd"
   ]
  },
  {
   "cell_type": "code",
   "execution_count": 31,
   "metadata": {},
   "outputs": [],
   "source": [
    "df = pd.read_csv('planets.csv')"
   ]
  },
  {
   "cell_type": "code",
   "execution_count": 32,
   "metadata": {},
   "outputs": [
    {
     "name": "stdout",
     "output_type": "stream",
     "text": [
      "(4284, 23)\n",
      "<bound method NDFrame.head of        row                  name  light_years_from_earth     planet_mass  \\\n",
      "0        0  11 Comae Berenices b                   305.0   19.4 Jupiters   \n",
      "1        1    11 Ursae Minoris b                   410.0  14.74 Jupiters   \n",
      "2        2       14 Andromedae b                   247.0    4.8 Jupiters   \n",
      "3        3         14 Herculis b                    59.0   4.66 Jupiters   \n",
      "4        4          16 Cygni B b                    69.0   1.78 Jupiters   \n",
      "...    ...                   ...                     ...             ...   \n",
      "4279  4279                XO-6 b                   773.0    4.4 Jupiters   \n",
      "4280  4280                XO-7 b                   764.0  0.709 Jupiters   \n",
      "4281  4281             YZ Ceti b                    12.0     0.75 Earths   \n",
      "4282  4282             YZ Ceti c                    12.0     0.98 Earths   \n",
      "4283  4283             YZ Ceti d                    12.0     1.14 Earths   \n",
      "\n",
      "      stellar_magnitude  discovery_date  planet_type    planet_radius  \\\n",
      "0                 4.740            2007    Gas Giant   1.08 x Jupiter   \n",
      "1                 5.016            2009    Gas Giant   1.09 x Jupiter   \n",
      "2                 5.227            2008    Gas Giant   1.15 x Jupiter   \n",
      "3                 6.610            2002    Gas Giant   1.15 x Jupiter   \n",
      "4                 6.250            1996    Gas Giant    1.2 x Jupiter   \n",
      "...                 ...             ...          ...              ...   \n",
      "4279             10.250            2016    Gas Giant   2.07 x Jupiter   \n",
      "4280             10.520            2019    Gas Giant  1.373 x Jupiter   \n",
      "4281             12.074            2017  Terrestrial     0.93 x Earth   \n",
      "4282             12.074            2017  Terrestrial      1.0 x Earth   \n",
      "4283             12.074            2017  Super Earth     1.05 x Earth   \n",
      "\n",
      "     orbital_radius orbital_period  ... planet_orbital_inclination  \\\n",
      "0           1.29 AU       326 days  ...                        NaN   \n",
      "1           1.53 AU      1.4 years  ...                        NaN   \n",
      "2           0.83 AU     185.8 days  ...                        NaN   \n",
      "3           2.93 AU      4.9 years  ...                        NaN   \n",
      "4           1.66 AU      2.2 years  ...                        NaN   \n",
      "...             ...            ...  ...                        ...   \n",
      "4279      0.0815 AU       3.8 days  ...                      86.00   \n",
      "4280     0.04421 AU       2.9 days  ...                      83.45   \n",
      "4281     0.01557 AU         2 days  ...                        NaN   \n",
      "4282      0.0209 AU       3.1 days  ...                        NaN   \n",
      "4283     0.02764 AU       4.7 days  ...                        NaN   \n",
      "\n",
      "     planet_density right_ascension    declination  host_temperature  \\\n",
      "0               NaN    12h20m43.03s   +17d47m34.3s            4742.0   \n",
      "1               NaN    15h17m05.89s   +71d49m26.0s            4213.0   \n",
      "2               NaN    23h31m17.42s   +39d14m10.3s            4813.0   \n",
      "3               NaN    16h10m24.31s   +43d49m03.5s            5338.0   \n",
      "4               NaN    19h41m51.97s   +50d31m03.1s            5750.0   \n",
      "...             ...             ...            ...               ...   \n",
      "4279           0.62    06h19m10.39s   +73d49m39.7s            6720.0   \n",
      "4280           0.34   18h29m54.929s  +85d13m59.58s            6250.0   \n",
      "4281            NaN    01h12m30.64s   -16d59m56.3s            3056.0   \n",
      "4282            NaN    01h12m30.64s   -16d59m56.3s            3056.0   \n",
      "4283            NaN    01h12m30.64s   -16d59m56.3s            3056.0   \n",
      "\n",
      "     host_mass host_radius   mass  radius  orbit_radius  \n",
      "0         2.70       19.00   19.4    1.08          1.29  \n",
      "1         2.78       29.79  14.74    1.09          1.53  \n",
      "2         2.20       11.00    4.8    1.15          0.83  \n",
      "3         0.90        0.93   4.66    1.15          2.93  \n",
      "4         1.08        1.13   1.78     1.2          1.66  \n",
      "...        ...         ...    ...     ...           ...  \n",
      "4279      1.47        1.93    4.4    2.07        0.0815  \n",
      "4280      1.41        1.48  0.709   1.373       0.04421  \n",
      "4281      0.13        0.17   0.75    0.93       0.01557  \n",
      "4282      0.13        0.17   0.98     1.0        0.0209  \n",
      "4283      0.13        0.17   1.14    1.05       0.02764  \n",
      "\n",
      "[4284 rows x 23 columns]>\n"
     ]
    }
   ],
   "source": [
    "mass_list = []\n",
    "for index, row in df.iterrows():\n",
    "    r = row['planet_mass'].split(' ')[0]\n",
    "    mass_list.append(r)\n",
    "\n",
    "df['mass'] = mass_list\n",
    "\n",
    "radius_list = []\n",
    "for index, row in df.iterrows():\n",
    "    r = row['planet_radius'].split(' ')[0]\n",
    "    radius_list.append(r)\n",
    "\n",
    "df['radius'] = radius_list\n",
    "\n",
    "orbit_radius_list = []\n",
    "for index, row in df.iterrows():\n",
    "    r = row['orbital_radius'].split(' ')[0]\n",
    "    orbit_radius_list.append(r)\n",
    "\n",
    "df['orbit_radius'] = orbit_radius_list\n",
    "print(df.shape)\n",
    "print(df.head)"
   ]
  },
  {
   "cell_type": "code",
   "execution_count": 34,
   "metadata": {},
   "outputs": [
    {
     "name": "stdout",
     "output_type": "stream",
     "text": [
      "0\n",
      "0\n",
      "0\n",
      "0\n",
      "0\n",
      "0\n"
     ]
    }
   ],
   "source": [
    "cnt = 0\n",
    "for index, row in df.iterrows():\n",
    "    if row['mass'] == 'Unknown':\n",
    "        cnt += 1\n",
    "        df.loc[index, 'mass'] = '0'\n",
    "        \n",
    "print(cnt)\n",
    "\n",
    "cnt = 0\n",
    "for index, row in df.iterrows():\n",
    "    if row['radius'] == 'Unknown':\n",
    "        cnt += 1\n",
    "        df.loc[index, 'radius'] = '0'\n",
    "        \n",
    "print(cnt)\n",
    "\n",
    "cnt = 0\n",
    "for index, row in df.iterrows():\n",
    "    if row['orbit_radius'] == 'Unknown':\n",
    "        cnt += 1\n",
    "        df.loc[index, 'orbit_radius'] = '0'\n",
    "        \n",
    "print(cnt)\n",
    "\n",
    "cnt = 0\n",
    "for index, row in df.iterrows():\n",
    "    if pd.isnull(row['stellar_magnitude']):\n",
    "        cnt += 1\n",
    "        df.loc[index, 'stellar_magnitude'] = 0\n",
    "        \n",
    "print(cnt)\n",
    "\n",
    "cnt = 0\n",
    "for index, row in df.iterrows():\n",
    "    if pd.isnull(row['light_years_from_earth']):\n",
    "        cnt += 1\n",
    "        df.loc[index, 'light_years_from_earth'] = 0\n",
    "        \n",
    "print(cnt)\n",
    "\n",
    "cnt = 0\n",
    "for index, row in df.iterrows():\n",
    "    if pd.isnull(row['planet_density']):\n",
    "        cnt += 1\n",
    "        df.loc[index, 'planet_density'] = 0\n",
    "        \n",
    "print(cnt)"
   ]
  },
  {
   "cell_type": "code",
   "execution_count": 35,
   "metadata": {},
   "outputs": [
    {
     "name": "stdout",
     "output_type": "stream",
     "text": [
      "9.96 0\n",
      "6.9 0\n",
      "92.0 0\n",
      "77.7 0.0\n",
      "27727.0 0.0\n",
      "20.48 0.0\n"
     ]
    }
   ],
   "source": [
    "print(df['mass'].max(), df['mass'].min())\n",
    "print(df['radius'].max(), df['radius'].min())\n",
    "print(df['orbit_radius'].max(), df['orbit_radius'].min())\n",
    "print(df['planet_density'].max(), df['planet_density'].min())\n",
    "print(df['light_years_from_earth'].max(), df['light_years_from_earth'].min())\n",
    "print(df['stellar_magnitude'].max(), df['stellar_magnitude'].min())"
   ]
  },
  {
   "cell_type": "code",
   "execution_count": 36,
   "metadata": {},
   "outputs": [],
   "source": [
    "df = df.drop(['planet_mass', 'planet_radius', 'orbital_radius'], axis = 1)"
   ]
  },
  {
   "cell_type": "code",
   "execution_count": 37,
   "metadata": {},
   "outputs": [],
   "source": [
    "df.to_csv('planets.csv', index = False)"
   ]
  },
  {
   "cell_type": "code",
   "execution_count": null,
   "metadata": {},
   "outputs": [],
   "source": []
  }
 ],
 "metadata": {
  "kernelspec": {
   "display_name": "Python 3",
   "language": "python",
   "name": "python3"
  },
  "language_info": {
   "codemirror_mode": {
    "name": "ipython",
    "version": 3
   },
   "file_extension": ".py",
   "mimetype": "text/x-python",
   "name": "python",
   "nbconvert_exporter": "python",
   "pygments_lexer": "ipython3",
   "version": "3.7.7"
  }
 },
 "nbformat": 4,
 "nbformat_minor": 4
}
